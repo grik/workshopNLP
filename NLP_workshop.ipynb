{
 "cells": [
  {
   "cell_type": "markdown",
   "metadata": {},
   "source": [
    "# Natural Language Processing Workshop pt.1"
   ]
  },
  {
   "cell_type": "code",
   "execution_count": 1,
   "metadata": {},
   "outputs": [],
   "source": [
    "from sklearn.feature_extraction.text import (TfidfVectorizer,\n",
    "                                             CountVectorizer)\n",
    "from nltk.corpus import stopwords\n",
    "import numpy as np\n",
    "import matplotlib.pyplot as plt\n",
    "from nltk import FreqDist\n",
    "import pandas as pd\n",
    "from nltk.text import Text\n",
    "from nltk.text import ContextIndex\n",
    "from nltk.text import ConcordanceIndex\n",
    "from sklearn.cluster import KMeans\n",
    "import string\n",
    "import re"
   ]
  },
  {
   "cell_type": "code",
   "execution_count": 34,
   "metadata": {},
   "outputs": [
    {
     "name": "stdout",
     "output_type": "stream",
     "text": [
      "W zdaniu są takie znaki poza znakami: [' ', ' ']\n",
      "W zdaniu są takie znaki poza znakami: [' ', ' ']\n",
      "Zdanie bez u to : Alu mu kotu\n"
     ]
    },
    {
     "data": {
      "text/plain": [
       "'alu mu kotu'"
      ]
     },
     "execution_count": 34,
     "metadata": {},
     "output_type": "execute_result"
    }
   ],
   "source": [
    "\n",
    "# # Nice string\n",
    "# text = 'Ala ma kota'\n",
    "# print(text)\n",
    "\n",
    "# # format method\n",
    "# text = 'Ala ma {}'.format('kota')\n",
    "# print(text)\n",
    "\n",
    "# # hashing method\n",
    "# print('Ala ma %s' %'kota')\n",
    "# print('Ala ma %i %s' %(2,'koty'))\n",
    "\n",
    "\n",
    "# # fstring\n",
    "# pet = 'kot'\n",
    "# print(f'Ali zwierzak to {pet}')\n",
    "\n",
    "# # Lowering\n",
    "# print(text.lower())\n",
    "\n",
    "# regular expressions\n",
    "reg = re.findall(r'[^a-zA-z]',text)\n",
    "print(f'W zdaniu są takie znaki poza znakami: {reg}')\n",
    "# regular expressions\n",
    "reg = re.findall(r'[^a-zA-z]',text)\n",
    "print(f'W zdaniu są takie znaki poza znakami: {reg}')\n",
    "#zamienimy wszystkie a na u\n",
    "reg = re.sub(r'[a]','u',text)\n",
    "print(f'Zdanie bez u to : {reg}')\n",
    "reg.lower()\n"
   ]
  },
  {
   "cell_type": "code",
   "execution_count": 52,
   "metadata": {},
   "outputs": [
    {
     "name": "stdout",
     "output_type": "stream",
     "text": [
      "Ala ma kota\n",
      "Ala ma kota\n",
      "Ala ma kota\n",
      "Ala ma 2 koty\n",
      "Ali zwierzak to kot\n",
      "ala ma kota\n",
      "W zdaniu są takie znaki poza znakami: [' ', ' ']\n",
      "Zdanie bez małych liter to : Alu mu kotu\n",
      "['Ala', 'ma,', 'a', 'ja', 'nie', 'mam', '.']\n",
      "Ala ma kota   Alu mu kotu\n",
      "['au', 'aux', 'avec', 'ce', 'ces', 'dans', 'de', 'des', 'du', 'elle', 'en', 'et', 'eux', 'il', 'je', 'la', 'le', 'leur', 'lui', 'ma', 'mais', 'me', 'même', 'mes', 'moi', 'mon', 'ne', 'nos', 'notre', 'nous', 'on', 'ou', 'par', 'pas', 'pour', 'qu', 'que', 'qui', 'sa', 'se', 'ses', 'son', 'sur', 'ta', 'te', 'tes', 'toi', 'ton', 'tu', 'un', 'une', 'vos', 'votre', 'vous', 'c', 'd', 'j', 'l', 'à', 'm', 'n', 's', 't', 'y', 'été', 'étée', 'étées', 'étés', 'étant', 'étante', 'étants', 'étantes', 'suis', 'es', 'est', 'sommes', 'êtes', 'sont', 'serai', 'seras', 'sera', 'serons', 'serez', 'seront', 'serais', 'serait', 'serions', 'seriez', 'seraient', 'étais', 'était', 'étions', 'étiez', 'étaient', 'fus', 'fut', 'fûmes', 'fûtes', 'furent', 'sois', 'soit', 'soyons', 'soyez', 'soient', 'fusse', 'fusses', 'fût', 'fussions', 'fussiez', 'fussent', 'ayant', 'ayante', 'ayantes', 'ayants', 'eu', 'eue', 'eues', 'eus', 'ai', 'as', 'avons', 'avez', 'ont', 'aurai', 'auras', 'aura', 'aurons', 'aurez', 'auront', 'aurais', 'aurait', 'aurions', 'auriez', 'auraient', 'avais', 'avait', 'avions', 'aviez', 'avaient', 'eut', 'eûmes', 'eûtes', 'eurent', 'aie', 'aies', 'ait', 'ayons', 'ayez', 'aient', 'eusse', 'eusses', 'eût', 'eussions', 'eussiez', 'eussent']\n"
     ]
    }
   ],
   "source": [
    "\n",
    "# Nice string\n",
    "text = 'Ala ma kota'\n",
    "print(text)\n",
    "\n",
    "# format method\n",
    "text = 'Ala ma {}'.format('kota')\n",
    "print(text)\n",
    "\n",
    "# hashing method\n",
    "print('Ala ma %s' %'kota')\n",
    "print('Ala ma %i %s' %(2,'koty'))\n",
    "\n",
    "# fstring\n",
    "pet = 'kot'\n",
    "print(f'Ali zwierzak to {pet}')\n",
    "\n",
    "# Lowering\n",
    "print(text.lower())\n",
    "\n",
    "# regular expressions\n",
    "reg = re.findall(r'[^a-zA-z]',text)\n",
    "print(f'W zdaniu są takie znaki poza znakami: {reg}')\n",
    "\n",
    "#zamienimy wszystkie a na u\n",
    "reg = re.sub(r'[a]','u',text)\n",
    "print(f'Zdanie bez małych liter to : {reg}')\n",
    "\n",
    "#łączenie elementów listy poprzez symbol\n",
    "print('Ala ma, a ja nie mam .'.split(' '))\n",
    "print('   '.join([text,reg]))\n",
    "\n",
    "#Stopwords dla angielskiego:\n",
    "print(stopwords.words('french'))"
   ]
  },
  {
   "cell_type": "code",
   "execution_count": 54,
   "metadata": {},
   "outputs": [],
   "source": [
    "#Defining function for cleaning data\n",
    "def preparing_stories(stories_list):\n",
    "    result_list = list()\n",
    "    for n in stories_list:\n",
    "        \n",
    "        #Getting rid of interpunction\n",
    "        result = re.sub(\"[^a-zA-Z]\",\" \",n)\n",
    "        #Lowering data to avoid problems wit case sensitivity\n",
    "        result = result.lower()\n",
    "        #Creating list of all words\n",
    "        result = result.split(' ')\n",
    "        #Rejecting words that occurs too often\n",
    "        result = [w for w in result if w not in stopwords.words('english')]\n",
    "        #Joining words into one string, getting rid of empty elements\n",
    "        result = ' '.join([n for n in result if n != ''])\n",
    "        #Appending processed data to results\n",
    "        result_list.append(result)\n",
    "    return result_list\n"
   ]
  },
  {
   "cell_type": "code",
   "execution_count": 55,
   "metadata": {},
   "outputs": [],
   "source": [
    "\n",
    "with open('fed_papers.txt','r') as file:\n",
    "    raw = file.read()\n",
    "    \n",
    "dataset = raw.split('FEDERALIST No.')\n",
    "\n",
    "#make data short because... time limits and stuff\n",
    "\n",
    "dataset = [n[:300] for n in dataset]\n",
    "data = preparing_stories(dataset)\n",
    "\n"
   ]
  },
  {
   "cell_type": "code",
   "execution_count": 5,
   "metadata": {},
   "outputs": [
    {
     "name": "stdout",
     "output_type": "stream",
     "text": [
      "Surowe dane to:\n",
      " ['The Project Gutenberg EBook of The Federalist Papers, by \\nAlexander Hamilton and John Jay and James Madison\\n\\nThis eBook is for the use of anyone anywhere at no cost and with\\nalmost no restrictions whatsoever.  You may copy it, give it away or\\nre-use it under the terms of the Project Gutenberg Licens', ' 2\\n\\n\\nConcerning Dangers from Foreign Force and Influence\\n\\nFor the Independent Journal.\\n\\nJAY\\n\\n\\n\\nTo the People of the State of New York:\\n\\nWHEN the people of America reflect that they are now called upon\\nto decide a question, which, in its consequences, must prove one of\\nthe most important that ever en']\n",
      "\n",
      " \n",
      "Zaś wyczyszczone to : \n",
      "['project gutenberg ebook federalist papers alexander hamilton john jay james madison ebook use anyone anywhere cost almost restrictions whatsoever may copy give away use terms project gutenberg licens', 'concerning dangers foreign force influence independent journal jay people state new york people america reflect called upon decide question consequences must prove one important ever en']\n"
     ]
    }
   ],
   "source": [
    "\n",
    "print(f'Surowe dane to:\\n {dataset[:2]}')\n",
    "print(f'\\n \\nZaś wyczyszczone to : \\n{data[:2]}')"
   ]
  },
  {
   "cell_type": "code",
   "execution_count": 59,
   "metadata": {},
   "outputs": [],
   "source": [
    "\n",
    "def array_words(stories_list):\n",
    "    #Calling vectorizer\n",
    "    count = CountVectorizer(analyzer='word',tokenizer=None,\n",
    "                      preprocessor = None,max_features = 5000)\n",
    "#     count = TfidfVectorizer(analyzer='word',tokenizer=None,\n",
    "#                       preprocessor = None,max_features = 5000)\n",
    "    stories = preparing_stories(stories_list)\n",
    "    \n",
    "    transformed = count.fit_transform(stories)\n",
    "    \n",
    "    feature_array = transformed.toarray()\n",
    "    \n",
    "    feature_name = count.get_feature_names()\n",
    "    \n",
    "    return feature_name,feature_array"
   ]
  },
  {
   "cell_type": "code",
   "execution_count": 60,
   "metadata": {},
   "outputs": [],
   "source": [
    "word_dict,feature_array = array_words(data)\n"
   ]
  },
  {
   "cell_type": "code",
   "execution_count": 61,
   "metadata": {},
   "outputs": [
    {
     "name": "stdout",
     "output_type": "stream",
     "text": [
      "Shape of feature array is (83, 596)\n",
      "Lenght of dictionary containing features is 596\n"
     ]
    }
   ],
   "source": [
    "print(f'Shape of feature array is {feature_array.shape}')\n",
    "print(f'Lenght of dictionary containing features is {len(word_dict)}')"
   ]
  },
  {
   "cell_type": "code",
   "execution_count": 62,
   "metadata": {},
   "outputs": [],
   "source": [
    "# plt.scatter(feature_array[:,0:20],feature_array[:,20:40])\n",
    "# plt.scatter(feature_array[:,80:100],feature_array[:,60:80])"
   ]
  },
  {
   "cell_type": "code",
   "execution_count": 64,
   "metadata": {},
   "outputs": [
    {
     "data": {
      "text/plain": [
       "array([1, 1, 1, 1, 1, 1, 0, 1, 0, 1, 0, 1, 0, 1, 0, 1, 1, 1, 0, 1, 0, 0,\n",
       "       1, 0, 1, 0, 1, 1, 0, 0, 1, 1, 0, 1, 0, 1, 0, 1, 0, 1, 0, 1, 0, 1,\n",
       "       0, 0, 0, 0, 0, 0, 0, 0, 0, 0, 0, 0, 0, 0, 0, 0, 1, 0, 0, 0, 2, 0,\n",
       "       2, 2, 2, 2, 0, 2, 0, 1, 0, 0, 0, 0, 0, 0, 0, 0, 0])"
      ]
     },
     "execution_count": 64,
     "metadata": {},
     "output_type": "execute_result"
    }
   ],
   "source": [
    "X = feature_array\n",
    "kmeans = KMeans(n_clusters=3, random_state=0).fit(X)\n",
    "res = kmeans.labels_\n",
    "res"
   ]
  },
  {
   "cell_type": "code",
   "execution_count": 65,
   "metadata": {},
   "outputs": [
    {
     "name": "stdout",
     "output_type": "stream",
     "text": [
      "Do klasy 0 należy 49 instancji\n",
      "Do klasy 1 należy 27 instancji\n",
      "Do klasy 2 należy 6 instancji\n"
     ]
    }
   ],
   "source": [
    "for n in np.unique(res):\n",
    "    print(f'Do klasy {n} należy {np.count_nonzero(np.where(res == n))} instancji')"
   ]
  },
  {
   "cell_type": "markdown",
   "metadata": {},
   "source": [
    "# NLTK"
   ]
  },
  {
   "cell_type": "code",
   "execution_count": 66,
   "metadata": {},
   "outputs": [
    {
     "name": "stdout",
     "output_type": "stream",
     "text": [
      "*** Introductory Examples for the NLTK Book ***\n",
      "Loading text1, ..., text9 and sent1, ..., sent9\n",
      "Type the name of the text or sentence to view it.\n",
      "Type: 'texts()' or 'sents()' to list the materials.\n",
      "text1: Moby Dick by Herman Melville 1851\n",
      "text2: Sense and Sensibility by Jane Austen 1811\n",
      "text3: The Book of Genesis\n",
      "text4: Inaugural Address Corpus\n",
      "text5: Chat Corpus\n",
      "text6: Monty Python and the Holy Grail\n",
      "text7: Wall Street Journal\n",
      "text8: Personals Corpus\n",
      "text9: The Man Who Was Thursday by G . K . Chesterton 1908\n"
     ]
    }
   ],
   "source": [
    "from nltk.book import *\n",
    "import nltk.chat as chat"
   ]
  },
  {
   "cell_type": "code",
   "execution_count": 67,
   "metadata": {},
   "outputs": [
    {
     "name": "stdout",
     "output_type": "stream",
     "text": [
      "stubb ahab it he that all queequeg him there me as hand them what\n",
      "which this by i now you\n"
     ]
    }
   ],
   "source": [
    "text1.similar('Starbuck')\n",
    "# text6.similar('king')"
   ]
  },
  {
   "cell_type": "code",
   "execution_count": 14,
   "metadata": {},
   "outputs": [
    {
     "name": "stdout",
     "output_type": "stream",
     "text": [
      "Displaying 25 of 84 matches:\n",
      ": Man ! ARTHUR : Man . Sorry . What knight live in that castle over there ? DE\n",
      "rthur music ] [ music stops ] BLACK KNIGHT : Aaagh ! [ King Arthur music ] [ m\n",
      "rthur music ] [ music stops ] BLACK KNIGHT : Aaagh ! GREEN KNIGHT : Ooh ! [ Ki\n",
      "tops ] BLACK KNIGHT : Aaagh ! GREEN KNIGHT : Ooh ! [ King Arthur music ] [ mus\n",
      "ic ] [ music stops ] [ stab ] BLACK KNIGHT : Aagh ! GREEN KNIGHT : Oh ! [ King\n",
      " stab ] BLACK KNIGHT : Aagh ! GREEN KNIGHT : Oh ! [ King Arthur music ] Ooh ! \n",
      "music ] Ooh ! [ music stops ] BLACK KNIGHT : Aaagh ! [ clang ] BLACK KNIGHT an\n",
      "CK KNIGHT : Aaagh ! [ clang ] BLACK KNIGHT and GREEN KNIGHT : Agh !, oh !, etc\n",
      " ! [ clang ] BLACK KNIGHT and GREEN KNIGHT : Agh !, oh !, etc . GREEN KNIGHT :\n",
      "N KNIGHT : Agh !, oh !, etc . GREEN KNIGHT : Aaaaaah ! Aaaaaaaaah ! [ woosh ] \n",
      "ah ! Aaaaaaaaah ! [ woosh ] [ BLACK KNIGHT kills GREEN KNIGHT ] [ thud ] [ scr\n",
      " woosh ] [ BLACK KNIGHT kills GREEN KNIGHT ] [ thud ] [ scrape ] BLACK KNIGHT \n",
      " KNIGHT ] [ thud ] [ scrape ] BLACK KNIGHT : Umm ! [ clop clop clop ] ARTHUR :\n",
      "with the strength of many men , Sir Knight . [ pause ] I am Arthur , King of t\n",
      "d . So be it . Come , Patsy . BLACK KNIGHT : None shall pass . ARTHUR : What ?\n",
      " shall pass . ARTHUR : What ? BLACK KNIGHT : None shall pass . ARTHUR : I have\n",
      "have no quarrel with you , good Sir Knight , but I must cross this bridge . BL\n",
      "ut I must cross this bridge . BLACK KNIGHT : Then you shall die . ARTHUR : I c\n",
      "he Britons , to stand aside ! BLACK KNIGHT : I move for no man . ARTHUR : So b\n",
      "RTHUR : So be it ! ARTHUR and BLACK KNIGHT : Aaah !, hiyaah !, etc . [ ARTHUR \n",
      "h !, etc . [ ARTHUR chops the BLACK KNIGHT ' s left arm off ] ARTHUR : Now sta\n",
      "nd aside , worthy adversary . BLACK KNIGHT : ' Tis but a scratch . ARTHUR : A \n",
      " scratch ? Your arm ' s off ! BLACK KNIGHT : No , it isn ' t . ARTHUR : Well ,\n",
      ": Well , what ' s that then ? BLACK KNIGHT : I ' ve had worse . ARTHUR : You l\n",
      "d worse . ARTHUR : You liar ! BLACK KNIGHT : Come on , you pansy ! [ clang ] H\n"
     ]
    }
   ],
   "source": [
    "text6.concordance('knight')"
   ]
  },
  {
   "cell_type": "code",
   "execution_count": 68,
   "metadata": {},
   "outputs": [
    {
     "data": {
      "image/png": "[encoded data removed]",
      "text/plain": [
       "<Figure size 432x288 with 1 Axes>"
      ]
     },
     "metadata": {
      "needs_background": "light"
     },
     "output_type": "display_data"
    },
    {
     "data": {
      "image/png": "[encoded data removed]",
      "text/plain": [
       "<Figure size 432x288 with 1 Axes>"
      ]
     },
     "metadata": {
      "needs_background": "light"
     },
     "output_type": "display_data"
    },
    {
     "data": {
      "image/png": "[encoded data removed]",
      "text/plain": [
       "<Figure size 432x288 with 1 Axes>"
      ]
     },
     "metadata": {
      "needs_background": "light"
     },
     "output_type": "display_data"
    },
    {
     "data": {
      "image/png": "[encoded data removed]",
      "text/plain": [
       "<Figure size 432x288 with 1 Axes>"
      ]
     },
     "metadata": {
      "needs_background": "light"
     },
     "output_type": "display_data"
    }
   ],
   "source": [
    "text1.dispersion_plot(['Starbuck','Ahab','Stubb'])\n",
    "text6.dispersion_plot(['knight','king','Grail'])\n",
    "text6.dispersion_plot(['countenance','romantic','reasonable'])\n",
    "text2.dispersion_plot(['countenance','romantic','reasonable'])"
   ]
  },
  {
   "cell_type": "code",
   "execution_count": null,
   "metadata": {},
   "outputs": [
    {
     "name": "stdout",
     "output_type": "stream",
     "text": [
      "Hello\n",
      "User: Hello\n",
      "Elisa: Hello, how are you feeling today?\n",
      "Nice, thanks!\n",
      "User: Nice, thanks!\n",
      "Elisa: nice, thanks!.\n",
      "And you?\n",
      "User: And you?\n",
      "Elisa: Why do you ask that?\n",
      "I would like to know you more\n",
      "User: I would like to know you more\n",
      "Elisa: Could you explain why you would like to know me more?\n",
      "To make a Turing test i think\n",
      "User: To make a Turing test i think\n",
      "Elisa: to make a turing test you think.\n",
      "Do you think you can pass it?\n",
      "User: Do you think you can pass it?\n",
      "Elisa: Why do you ask that?\n",
      "Why do YOU ask that?\n",
      "User: Why do YOU ask that?\n",
      "Elisa: Why do you think do me ask that?\n",
      "Why not?\n",
      "User: Why not?\n",
      "Elisa: Why do you think not?\n",
      "Hell yeah\n",
      "User: Hell yeah\n",
      "Elisa: I see.  And what does that tell you?\n"
     ]
    }
   ],
   "source": [
    "for n in range(10):\n",
    "    uno = input()\n",
    "    print(f'User: {uno}')\n",
    "    print(f'Elisa: {chat.}')"
   ]
  },
  {
   "cell_type": "code",
   "execution_count": null,
   "metadata": {},
   "outputs": [],
   "source": []
  },
  {
   "cell_type": "code",
   "execution_count": null,
   "metadata": {},
   "outputs": [],
   "source": []
  }
 ],
 "metadata": {
  "kernelspec": {
   "display_name": "Python 3",
   "language": "python",
   "name": "python3"
  },
  "language_info": {
   "codemirror_mode": {
    "name": "ipython",
    "version": 3
   },
   "file_extension": ".py",
   "mimetype": "text/x-python",
   "name": "python",
   "nbconvert_exporter": "python",
   "pygments_lexer": "ipython3",
   "version": "3.7.3"
  }
 },
 "nbformat": 4,
 "nbformat_minor": 2
}
